docker run --name postgres-census -e POSTGRES_PASSWORD=yourpassword -d -p 5432:5432 postgres:12
pip install psycopg2 asyncpg pandas sqlalchemy
import psycopg2
import asyncpg
import pandas as pd
from sqlalchemy import create_engine

# Database credentials
DB_NAME = "census_db"
DB_USER = "postgres"
DB_PASSWORD = "yourpassword"
DB_HOST = "localhost"
DB_PORT = "5432"

# Step 1: Create a database and connect
def setup_database():
    try:
        # Connect to the default database to create a new one
        connection = psycopg2.connect(
            dbname="postgres", user=DB_USER, password=DB_PASSWORD, host=DB_HOST, port=DB_PORT
        )
        connection.autocommit = True
        cursor = connection.cursor()

        # Create the census database
        cursor.execute(f"CREATE DATABASE {DB_NAME};")
        print(f"Database {DB_NAME} created successfully.")
    except psycopg2.errors.DuplicateDatabase:
        print(f"Database {DB_NAME} already exists.")
    finally:
        connection.close()

setup_database()

# Step 2: Create and populate a table using psycopg2
def create_and_populate_table():
    try:
        # Connect to the census database
        connection = psycopg2.connect(
            dbname=DB_NAME, user=DB_USER, password=DB_PASSWORD, host=DB_HOST, port=DB_PORT
        )
        cursor = connection.cursor()

        # Create a census table
        cursor.execute("""
            CREATE TABLE IF NOT EXISTS census_data (
                id SERIAL PRIMARY KEY,
                state VARCHAR(50),
                population INTEGER,
                area INTEGER,
                density FLOAT
            );
        """)

        # Insert sample data
        data = [
            ("California", 39538223, 163696, 241.7),
            ("Texas", 29145505, 268596, 108.6),
            ("Florida", 21538187, 65758, 327.4),
            ("New York", 20201249, 54555, 370.4),
        ]
        cursor.executemany("""
            INSERT INTO census_data (state, population, area, density)
            VALUES (%s, %s, %s, %s)
        """, data)
        connection.commit()
        print("Census table created and populated successfully.")
    except Exception as e:
        print(f"Error: {e}")
    finally:
        connection.close()

create_and_populate_table()

# Step 3: Query the data using asyncpg
async def query_data():
    connection = await asyncpg.connect(
        user=DB_USER, password=DB_PASSWORD, database=DB_NAME, host=DB_HOST, port=DB_PORT
    )
    rows = await connection.fetch("SELECT * FROM census_data WHERE population > 20000000;")
    print("States with population greater than 20M:")
    for row in rows:
        print(dict(row))
    await connection.close()

import asyncio
asyncio.run(query_data())

# Step 4: Analyze the data using Pandas and SQLAlchemy
def analyze_data():
    engine = create_engine(f"postgresql://{DB_USER}:{DB_PASSWORD}@{DB_HOST}:{DB_PORT}/{DB_NAME}")
    query = "SELECT * FROM census_data;"
    df = pd.read_sql(query, engine)
    
    # Analysis: Calculate total population and average density
    total_population = df['population'].sum()
    avg_density = df['density'].mean()

    print(f"Total Population: {total_population}")
    print(f"Average Density: {avg_density:.2f}")

    # Save the data to a CSV file
    df.to_csv("census_data_analysis.csv", index=False)
    print("Analysis results saved to census_data_analysis.csv.")

analyze_data()

